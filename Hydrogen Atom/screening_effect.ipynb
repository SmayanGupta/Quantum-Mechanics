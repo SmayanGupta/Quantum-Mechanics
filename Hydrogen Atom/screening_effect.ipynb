{
  "nbformat": 4,
  "nbformat_minor": 0,
  "metadata": {
    "colab": {
      "name": "screening effect.ipynb",
      "provenance": [],
      "collapsed_sections": []
    },
    "kernelspec": {
      "name": "python3",
      "display_name": "Python 3"
    },
    "language_info": {
      "name": "python"
    }
  },
  "cells": [
    {
      "cell_type": "code",
      "metadata": {
        "id": "-IPmAHTB6gb0"
      },
      "source": [
        "'''Smayan Gupta\n",
        "19/17067\n",
        "Section-A\n",
        "Bsc Physics Hons'''\n",
        "import numpy as np\n",
        "import matplotlib.pyplot as plt\n",
        "import scipy as sp\n",
        "from scipy.sparse.linalg import eigsh"
      ],
      "execution_count": null,
      "outputs": []
    },
    {
      "cell_type": "code",
      "metadata": {
        "colab": {
          "base_uri": "https://localhost:8080/"
        },
        "id": "ZqgHMUfOCCZM",
        "outputId": "d810dfa5-4923-4f5f-fc41-d1fafb963815"
      },
      "source": [
        "#Constants\n",
        "e=3.795\n",
        "nth=5\n",
        "epsilonpi=1\n",
        "hpi=1973\n",
        "m= (0.511*10**6)\n",
        "n=1000\n",
        "\n",
        "ri=1e-5\n",
        "rf=10\n",
        "x=np.linspace(ri,rf,n)\n",
        "d=((rf-ri)/n)#x[1]-x[0]\n",
        "#print(d)\n",
        "\n",
        "#making kinetic energy operator\n",
        "k=(hpi*hpi)/(2*m*d*d)\n"
      ],
      "execution_count": null,
      "outputs": [
        {
          "output_type": "execute_result",
          "data": {
            "text/plain": [
              "3.795"
            ]
          },
          "metadata": {},
          "execution_count": 17
        }
      ]
    },
    {
      "cell_type": "code",
      "metadata": {
        "id": "crtpgMcz7k9A"
      },
      "source": [
        "A=1\n",
        "B=-2\n",
        "X=np.ones(n-1)*A*k\n",
        "Y=np.ones(n)*B*k\n",
        "K=np.diag(X,-1)+np.diag(Y,0)+np.diag(X,1)\n",
        "\n",
        "#making laplace operator\n",
        "l=0\n",
        "L=np.zeros((n,n))\n",
        "for i in range(0,n):\n",
        "    L[i,i]= (hpi**2/(2*m))*(l*(l+1))/(x[i])**2\n",
        "#print(L)\n"
      ],
      "execution_count": null,
      "outputs": []
    },
    {
      "cell_type": "code",
      "metadata": {
        "id": "cKS7JJbvCXzY"
      },
      "source": [
        "\n",
        "#making potential operator\n",
        "def scpotential(r):\n",
        "  #screening constant\n",
        "    sc=5\n",
        "    return (e*e*np.exp(-r/sc))/(r)\n",
        "\n",
        "\n",
        "V=np.zeros((n,n))\n",
        "for i in range(0,n):\n",
        "    r=ri+ (i+1)*d\n",
        "    V[i,i]= scpotential(r)#x[i]) \n",
        "#print(V.ravel())\n",
        "\n"
      ],
      "execution_count": null,
      "outputs": []
    },
    {
      "cell_type": "code",
      "metadata": {
        "colab": {
          "base_uri": "https://localhost:8080/",
          "height": 642
        },
        "id": "ry2XgCh9Cd3j",
        "outputId": "80806f92-4805-4068-fd21-44b80cc5df73"
      },
      "source": [
        "H=-(K+V-L)\n",
        "#H[0,0]=0\n",
        "#H[n+2,n+2]=0\n",
        "#print(H)\n",
        "\n",
        "#energyvalues,vectors=sp.linalg.eig(H)\n",
        "energyvalues,vectors=np.linalg.eigh(H)\n",
        "#energyvalues,vectors=eigsh(H,k=10)\n",
        "#print(vectors)\n",
        "fig,axis= plt.subplots(2, 2, figsize=(10,10))\n",
        "axis[0, 0].plot(x,np.diag(V))\n",
        "\n",
        "x=np.linspace(ri,rf,n)\n",
        "#plt.plot(x,np.diag(V))\n",
        "#print(K)\n",
        "\n",
        "\n",
        "#energyvalues = np.sort(energyvalues)\n",
        "print(energyvalues[0:3])\n",
        "plt.legend(fancybox=True)\n",
        "#plt.plot(x,(vectors[4].T)**2)\n",
        "#plt.plot(x,energyvalues*(-13.6))\n",
        "#print(vectors[i].T)\n",
        "\n",
        "#for i in range(0,nth+1):\n",
        " #   plt.axvline(x=orbital(i),color='k',ls='--',alpha=0.7)\n",
        "for i in range(3):\n",
        "    axis[0,1].plot(x,(vectors.T[i]**2),label='{} Energy level'.format(i))\n",
        "plt.legend()\n",
        "fig.show()\n"
      ],
      "execution_count": null,
      "outputs": [
        {
          "output_type": "stream",
          "name": "stderr",
          "text": [
            "No handles with labels found to put in legend.\n",
            "No handles with labels found to put in legend.\n"
          ]
        },
        {
          "output_type": "stream",
          "name": "stdout",
          "text": [
            "[-10.94571684  -1.27210306   0.45289994]\n"
          ]
        },
        {
          "output_type": "display_data",
          "data": {
            "image/png": "[encoded data removed]",
            "text/plain": [
              "<Figure size 720x720 with 4 Axes>"
            ]
          },
          "metadata": {
            "needs_background": "light"
          }
        }
      ]
    },
    {
      "cell_type": "code",
      "metadata": {
        "id": "CtdCZ3GvCram"
      },
      "source": [
        ""
      ],
      "execution_count": null,
      "outputs": []
    }
  ]
}