{
  "nbformat": 4,
  "nbformat_minor": 0,
  "metadata": {
    "colab": {
      "name": "hydrogenatom exact.ipynb",
      "provenance": [],
      "collapsed_sections": []
    },
    "kernelspec": {
      "name": "python3",
      "display_name": "Python 3"
    },
    "language_info": {
      "name": "python"
    }
  },
  "cells": [
    {
      "cell_type": "code",
      "metadata": {
        "id": "Fs6e18HyWeSx"
      },
      "source": [
        "import sympy as sp\n",
        "import numpy as np\n",
        "from math import factorial as fac\n",
        "\n"
      ],
      "execution_count": null,
      "outputs": []
    },
    {
      "cell_type": "code",
      "metadata": {
        "id": "mYlhYNUiafV8"
      },
      "source": [
        "r=sp.Symbol('r')\n",
        "x=sp.Symbol('x')\n",
        "a=sp.Symbol('a')\n",
        "z=sp.Symbol('theta')\n"
      ],
      "execution_count": null,
      "outputs": []
    },
    {
      "cell_type": "code",
      "metadata": {
        "colab": {
          "base_uri": "https://localhost:8080/",
          "height": 37
        },
        "id": "2MPL0jBudMYb",
        "outputId": "b43d6052-0b18-4416-b5c5-685cc8c19494"
      },
      "source": [
        "def ndiff(f,n,x):\n",
        "  if (n==1):\n",
        "    return sp.diff(f,x)\n",
        "  elif n==0:\n",
        "    return f\n",
        "  else:\n",
        "    return sp.diff(ndiff(f,n-1,x),x)\n",
        "\n",
        "ndiff(x**4,4,x)\n"
      ],
      "execution_count": null,
      "outputs": [
        {
          "output_type": "execute_result",
          "data": {
            "text/latex": "$\\displaystyle 24$",
            "text/plain": [
              "24"
            ]
          },
          "metadata": {},
          "execution_count": 111
        }
      ]
    },
    {
      "cell_type": "code",
      "metadata": {
        "colab": {
          "base_uri": "https://localhost:8080/",
          "height": 53
        },
        "id": "ag1prePKaAmi",
        "outputId": "88738554-6401-4c61-f517-2870bb93b723"
      },
      "source": [
        "\n",
        "def laguerre(n,x):\n",
        "    if n==0:\n",
        "        return x*0+1\n",
        "    elif n==1:\n",
        "        return -x + 1\n",
        "    else: \n",
        "        return ((2*n-1-x)*laguerre(n-1, x) -(n-1)*laguerre(n-2, x))/n\n",
        "#ndiff(laguerre(1,x),1,x)\n",
        "laguerre(2,x).simplify()"
      ],
      "execution_count": null,
      "outputs": [
        {
          "output_type": "execute_result",
          "data": {
            "text/latex": "$\\displaystyle \\frac{\\left(x - 3\\right) \\left(x - 1\\right)}{2} - \\frac{1}{2}$",
            "text/plain": [
              "(x - 3)*(x - 1)/2 - 1/2"
            ]
          },
          "metadata": {},
          "execution_count": 112
        }
      ]
    },
    {
      "cell_type": "code",
      "metadata": {
        "colab": {
          "base_uri": "https://localhost:8080/",
          "height": 38
        },
        "id": "H9WxH7Incwnz",
        "outputId": "7dbb1e68-e816-489a-bea2-aee2b4247cc0"
      },
      "source": [
        "def alaguerre(p,q,x):\n",
        "  t=((-1)**p*ndiff(laguerre(p+q,x),p,x))#.sp.subs(x,t)\n",
        "  if t==0:\n",
        "    return 1\n",
        "  else:\n",
        "    return t\n",
        "\n",
        "'''def lag(n,l):\n",
        "  return alaguerre(2*l+1,n-l-1,x)\n",
        "lag(1,0)'''\n",
        "l=0\n",
        "n=2\n",
        "alaguerre(2*l+1,n-l-1,r)"
      ],
      "execution_count": null,
      "outputs": [
        {
          "output_type": "execute_result",
          "data": {
            "text/latex": "$\\displaystyle 2 - r$",
            "text/plain": [
              "2 - r"
            ]
          },
          "metadata": {},
          "execution_count": 113
        }
      ]
    },
    {
      "cell_type": "code",
      "metadata": {
        "id": "0f2chH25aOb5"
      },
      "source": [
        "def radial(r,n,l):\n",
        "  norm= sp.sqrt((2/(n*a))**3*(fac(n-l-1)/(2*n*fac(n+l))))\n",
        "  return (norm*sp.exp(-r/(n*a))*(2*r/(n*a))**l*alaguerre(2*l+1,n-l-1,r)).simplify()"
      ],
      "execution_count": null,
      "outputs": []
    },
    {
      "cell_type": "code",
      "metadata": {
        "colab": {
          "base_uri": "https://localhost:8080/",
          "height": 66
        },
        "id": "4DgG4AABeguq",
        "outputId": "b5d48d60-7d8e-450c-cf3b-5ff37844689a"
      },
      "source": [
        "radial(r,3,2)"
      ],
      "execution_count": null,
      "outputs": [
        {
          "output_type": "execute_result",
          "data": {
            "text/latex": "$\\displaystyle \\frac{0.00901600917703977 r^{2} \\sqrt{\\frac{1}{a^{3}}} e^{- \\frac{r}{3 a}}}{a^{2}}$",
            "text/plain": [
              "0.00901600917703977*r**2*sqrt(a**(-3))*exp(-r/(3*a))/a**2"
            ]
          },
          "metadata": {},
          "execution_count": 115
        }
      ]
    },
    {
      "cell_type": "code",
      "metadata": {
        "id": "x16Fy7NIcfq0"
      },
      "source": [
        "def legendre(n,x):\n",
        "    if n==0:\n",
        "        return x*0+1\n",
        "    elif n==1:\n",
        "        return x\n",
        "    else: \n",
        "        return ((2*n-1)*x*legendre(n-1, x) -(n-1)*legendre(n-2, x))/n"
      ],
      "execution_count": null,
      "outputs": []
    },
    {
      "cell_type": "code",
      "metadata": {
        "colab": {
          "base_uri": "https://localhost:8080/",
          "height": 41
        },
        "id": "2otd-b4cV8rc",
        "outputId": "0a686b3f-8ff1-4f01-ffd3-29aef836cbd7"
      },
      "source": [
        "def alegendre(m,l,x,dx):\n",
        "  if (l==0) or (l==1):\n",
        "    t= (-1)**m*(1-x**2)**(m/2)*ndiff(legendre(l,x),m,dx)\n",
        "  else:\n",
        "    t= (-1)**m*(1-x**2)**(m/2)*ndiff(legendre(l,x),m,dx)/sp.diff(x,dx)\n",
        "  if t==0:\n",
        "    return 1\n",
        "  else:\n",
        "    return t\n",
        "\n",
        "alegendre(0,0,sp.cos(x),x)"
      ],
      "execution_count": null,
      "outputs": [
        {
          "output_type": "execute_result",
          "data": {
            "text/latex": "$\\displaystyle \\left(1 - \\cos^{2}{\\left(x \\right)}\\right)^{0.0}$",
            "text/plain": [
              "(1 - cos(x)**2)**0.0"
            ]
          },
          "metadata": {},
          "execution_count": 150
        }
      ]
    },
    {
      "cell_type": "code",
      "metadata": {
        "id": "KokwJ0oqe6-v"
      },
      "source": [
        "def angular(m,l):\n",
        "  norm= sp.sqrt((2*l+1)*fac(l-m)/(4*sp.pi*fac(l+m)))\n",
        "  return sp.simplify(sp.expand((norm*alegendre(m,l,sp.cos(z),z))))"
      ],
      "execution_count": null,
      "outputs": []
    },
    {
      "cell_type": "code",
      "metadata": {
        "colab": {
          "base_uri": "https://localhost:8080/",
          "height": 70
        },
        "id": "q5HaKm-Xg7ZU",
        "outputId": "e06c166c-9a43-4b15-a8b8-10ab53ab38af"
      },
      "source": [
        "angular(0,1)"
      ],
      "execution_count": null,
      "outputs": [
        {
          "output_type": "execute_result",
          "data": {
            "text/latex": "$\\displaystyle \\frac{\\sqrt{5} \\left(3 \\sin{\\left(\\theta \\right)} - \\frac{2}{\\sin{\\left(\\theta \\right)}}\\right)}{4 \\sqrt{\\pi}}$",
            "text/plain": [
              "sqrt(5)*(3*sin(theta) - 2/sin(theta))/(4*sqrt(pi))"
            ]
          },
          "metadata": {},
          "execution_count": 148
        }
      ]
    },
    {
      "cell_type": "code",
      "metadata": {
        "id": "SdXN2amlg9QK"
      },
      "source": [
        "1 "
      ],
      "execution_count": null,
      "outputs": []
    }
  ]
}