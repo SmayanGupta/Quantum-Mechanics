{
  "nbformat": 4,
  "nbformat_minor": 0,
  "metadata": {
    "colab": {
      "name": "Vibrational Modes.ipynb",
      "provenance": [],
      "collapsed_sections": []
    },
    "kernelspec": {
      "name": "python3",
      "display_name": "Python 3"
    },
    "language_info": {
      "name": "python"
    }
  },
  "cells": [
    {
      "cell_type": "code",
      "metadata": {
        "id": "Su3lGto_tAgd"
      },
      "source": [
        "'''Smayan Gupta\n",
        "19/17067\n",
        "Section-A\n",
        "Bsc Physics Hons'''\n",
        "import numpy as np\n",
        "import matplotlib.pyplot as plt\n",
        "import scipy.sparse as sp\n",
        "from scipy.sparse.linalg import eigsh"
      ],
      "execution_count": null,
      "outputs": []
    },
    {
      "cell_type": "code",
      "metadata": {
        "id": "jA9FVQiWtBuv"
      },
      "source": [
        "#Constants\n",
        "\n",
        "hpi=197.3\n",
        "m= (0.511*10**6)\n",
        "n=1000\n",
        "a=1\n",
        "ri=-a\n",
        "rf=a\n",
        "alpha= 1.945\n",
        "D=4.75\n",
        "r0=0.7417\n",
        "#R=r-r0\n",
        "rmass=940*1e+6\n",
        "x=np.linspace(ri,rf,n)\n",
        "d=((rf-ri)/n)\n"
      ],
      "execution_count": null,
      "outputs": []
    },
    {
      "cell_type": "code",
      "metadata": {
        "id": "z6JdPksAuDQ4"
      },
      "source": [
        "#morse potential \n",
        "def mpot(r):\n",
        "  return D*(np.exp(-2*alpha*((r-r0)/r))-2*np.exp(-alpha*((r-r0)/r)))"
      ],
      "execution_count": null,
      "outputs": []
    },
    {
      "cell_type": "code",
      "metadata": {
        "colab": {
          "base_uri": "https://localhost:8080/"
        },
        "id": "v37a5u9iuZ6v",
        "outputId": "2029aa71-71df-4505-c833-98957e6c6a29"
      },
      "source": [
        "#kinetic energy operator\n",
        "k=(hpi*hpi)/(2*m*d*d)\n",
        "A=1\n",
        "B=-2\n",
        "\n",
        "X=np.ones(n-1)*A*k\n",
        "Y=np.ones(n)*B*k  \n",
        "K=np.diag(X,-1)+np.diag(Y,0)+np.diag(X,1)\n",
        "K=sp.dia_matrix(K)\n"
      ],
      "execution_count": null,
      "outputs": [
        {
          "output_type": "execute_result",
          "data": {
            "text/plain": [
              "<1000x1000 sparse matrix of type '<class 'numpy.float64'>'\n",
              "\twith 2998 stored elements (3 diagonals) in DIAgonal format>"
            ]
          },
          "metadata": {},
          "execution_count": 17
        }
      ]
    },
    {
      "cell_type": "code",
      "metadata": {
        "colab": {
          "base_uri": "https://localhost:8080/"
        },
        "id": "QsMrZUXgupNG",
        "outputId": "9d1d1145-6eab-4758-c4bd-2f8500f5a3f5"
      },
      "source": [
        "#potential operator\n",
        "r= np.linspace(0.1,1,n)\n",
        "v= mpot(r)\n",
        "V=sp.diags(v,(0))\n"
      ],
      "execution_count": null,
      "outputs": [
        {
          "output_type": "execute_result",
          "data": {
            "text/plain": [
              "<1000x1000 sparse matrix of type '<class 'numpy.float64'>'\n",
              "\twith 1000 stored elements (1 diagonals) in DIAgonal format>"
            ]
          },
          "metadata": {},
          "execution_count": 23
        }
      ]
    },
    {
      "cell_type": "code",
      "metadata": {
        "id": "h9zjLhQHwTf8"
      },
      "source": [
        "values,vectors= eigsh(K+V)"
      ],
      "execution_count": null,
      "outputs": []
    },
    {
      "cell_type": "code",
      "metadata": {
        "colab": {
          "base_uri": "https://localhost:8080/",
          "height": 282
        },
        "id": "Cf51lopryD10",
        "outputId": "049bb1e2-8f00-4836-914c-58e32dbea126"
      },
      "source": [
        "plt.plot(r,vectors.T[0])"
      ],
      "execution_count": null,
      "outputs": [
        {
          "output_type": "execute_result",
          "data": {
            "text/plain": [
              "[<matplotlib.lines.Line2D at 0x7f0030b2e550>]"
            ]
          },
          "metadata": {},
          "execution_count": 25
        },
        {
          "output_type": "display_data",
          "data": {
            "image/png": "[encoded data removed]",
            "text/plain": [
              "<Figure size 432x288 with 1 Axes>"
            ]
          },
          "metadata": {
            "needs_background": "light"
          }
        }
      ]
    }
  ]
}